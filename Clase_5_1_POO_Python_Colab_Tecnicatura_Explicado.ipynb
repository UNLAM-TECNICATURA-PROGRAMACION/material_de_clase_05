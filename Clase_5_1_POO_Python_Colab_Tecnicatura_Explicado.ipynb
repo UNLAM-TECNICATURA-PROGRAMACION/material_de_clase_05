{
  "cells": [
    {
      "cell_type": "markdown",
      "metadata": {
        "id": "view-in-github",
        "colab_type": "text"
      },
      "source": [
        "<a href=\"https://colab.research.google.com/github/UNLAM-TECNICATURA-PROGRAMACION/material_de_clase_05/blob/main/Clase_5_1_POO_Python_Colab_Tecnicatura_Explicado.ipynb\" target=\"_parent\"><img src=\"https://colab.research.google.com/assets/colab-badge.svg\" alt=\"Open In Colab\"/></a>"
      ]
    },
    {
      "cell_type": "markdown",
      "id": "51c89843",
      "metadata": {
        "id": "51c89843"
      },
      "source": [
        "# Programación Orientada a Objetos en Python\n",
        "## Tecnicatura en Desarrollo de Videojuegos\n",
        "---"
      ]
    },
    {
      "cell_type": "markdown",
      "id": "65171858",
      "metadata": {
        "id": "65171858"
      },
      "source": [
        "### ¿Qué es una clase y un objeto?\n",
        "Una **clase** es una plantilla para crear objetos. Define las características (atributos) y comportamientos (métodos) comunes. Un **objeto** es una instancia concreta de una clase."
      ]
    },
    {
      "cell_type": "code",
      "execution_count": 13,
      "id": "35eb7630",
      "metadata": {
        "id": "35eb7630"
      },
      "outputs": [],
      "source": [
        "class Personaje:\n",
        "    def __init__(self, nombre, salud):\n",
        "        self.nombre = nombre\n",
        "        self.salud = salud\n",
        "\n",
        "    def recibir_danio(self, cantidad):\n",
        "        self.salud -= cantidad\n",
        "        print(f\"{self.nombre} recibió {cantidad} de daño. Salud restante: {self.salud}\")"
      ]
    },
    {
      "cell_type": "markdown",
      "id": "f023a584",
      "metadata": {
        "id": "f023a584"
      },
      "source": [
        "**Ejercicio:** Crea un objeto `jugador` del tipo `Personaje` y llama al método `recibir_danio`."
      ]
    },
    {
      "cell_type": "markdown",
      "id": "d89e452b",
      "metadata": {
        "id": "d89e452b"
      },
      "source": [
        "### ¿Qué es la herencia?\n",
        "La **herencia** permite crear nuevas clases a partir de otras. La clase nueva (subclase) hereda los atributos y métodos de la clase original (superclase), y puede agregar o modificar comportamientos."
      ]
    },
    {
      "cell_type": "code",
      "execution_count": 15,
      "id": "61470047",
      "metadata": {
        "id": "61470047"
      },
      "outputs": [],
      "source": [
        "class EnemigoDebil(Personaje):\n",
        "    def atacar(self):\n",
        "        print(f\"{self.nombre} lanza un ataque!\")\n",
        "\n",
        "    def recibir_danio(self, cantidad):\n",
        "        self.salud -= (cantidad*4)\n",
        "        print(f\"{self.nombre} recibió {cantidad} de daño. Salud restante: {self.salud}\")\n",
        "\n",
        "class Enemigo(Personaje):\n",
        "    def atacar(self):\n",
        "        print(f\"{self.nombre} lanza un ataque!\")\n",
        "\n",
        "    def recibir_danio(self, cantidad):\n",
        "        self.salud -= (cantidad*2)\n",
        "        print(f\"{self.nombre} recibió {cantidad} de daño. Salud restante: {self.salud}\")\n",
        "\n",
        "enemigo = Enemigo"
      ]
    },
    {
      "cell_type": "markdown",
      "id": "8885a683",
      "metadata": {
        "id": "8885a683"
      },
      "source": [
        "**Ejercicio:** Crea un objeto `goblin` de tipo `Enemigo` y llama a `atacar()` y `recibir_danio()`."
      ]
    },
    {
      "cell_type": "markdown",
      "id": "913f204c",
      "metadata": {
        "id": "913f204c"
      },
      "source": [
        "### ¿Qué es el encapsulamiento?\n",
        "El **encapsulamiento** es el principio de ocultar detalles internos del objeto. Se puede usar para proteger atributos con el prefijo `__` y acceder a ellos mediante `@property`."
      ]
    },
    {
      "cell_type": "code",
      "execution_count": null,
      "id": "3775cbcb",
      "metadata": {
        "id": "3775cbcb"
      },
      "outputs": [],
      "source": [
        "class Tesoro:\n",
        "    def __init__(self, valor):\n",
        "        self.__valor = valor\n",
        "\n",
        "    @property\n",
        "    def valor(self):\n",
        "        return self.__valor"
      ]
    },
    {
      "cell_type": "markdown",
      "id": "1d76c700",
      "metadata": {
        "id": "1d76c700"
      },
      "source": [
        "**Ejercicio:** Crea un objeto `cofre` de tipo `Tesoro` y accede a su valor mediante la propiedad."
      ]
    },
    {
      "cell_type": "markdown",
      "source": [
        "Concepto: Ocultar datos internos de una clase y controlar su acceso mediante métodos (getters/setters)."
      ],
      "metadata": {
        "id": "TfeOVTfmenNL"
      },
      "id": "TfeOVTfmenNL"
    },
    {
      "cell_type": "code",
      "source": [
        "class Personaje:\n",
        "    def __init__(self, nombre):\n",
        "        self.__nombre = nombre  # Atributo privado (encapsulado)\n",
        "        self.__vida = 100       # Solo modificable mediante métodos\n",
        "\n",
        "    # Getter (acceder)\n",
        "    def get_vida(self):\n",
        "        return self.__vida\n",
        "\n",
        "    # Setter (modificar con validación)\n",
        "    def set_vida(self, puntos):\n",
        "        if puntos >= 0 and puntos <= 200:  # Validación\n",
        "            self.__vida = puntos\n",
        "        else:\n",
        "            print(\"¡Vida no válida!\")\n",
        "\n",
        "# Uso\n",
        "heroe = Personaje(\"Arya\")\n",
        "heroe.set_vida(160)\n",
        "print(heroe.__vida) # 160\n",
        "print(heroe.get_vida())  # 160\n",
        "heroe.set_vida(300)      # ¡Vida no válida!"
      ],
      "metadata": {
        "colab": {
          "base_uri": "https://localhost:8080/",
          "height": 211
        },
        "id": "sNSEJ3inejW9",
        "outputId": "a6e606a8-86a5-423a-f2b6-e74ce86f0157"
      },
      "id": "sNSEJ3inejW9",
      "execution_count": 18,
      "outputs": [
        {
          "output_type": "error",
          "ename": "AttributeError",
          "evalue": "'Personaje' object has no attribute '__vida'",
          "traceback": [
            "\u001b[0;31m---------------------------------------------------------------------------\u001b[0m",
            "\u001b[0;31mAttributeError\u001b[0m                            Traceback (most recent call last)",
            "\u001b[0;32m<ipython-input-18-56df401bba48>\u001b[0m in \u001b[0;36m<cell line: 0>\u001b[0;34m()\u001b[0m\n\u001b[1;32m     18\u001b[0m \u001b[0mheroe\u001b[0m \u001b[0;34m=\u001b[0m \u001b[0mPersonaje\u001b[0m\u001b[0;34m(\u001b[0m\u001b[0;34m\"Arya\"\u001b[0m\u001b[0;34m)\u001b[0m\u001b[0;34m\u001b[0m\u001b[0;34m\u001b[0m\u001b[0m\n\u001b[1;32m     19\u001b[0m \u001b[0mheroe\u001b[0m\u001b[0;34m.\u001b[0m\u001b[0mset_vida\u001b[0m\u001b[0;34m(\u001b[0m\u001b[0;36m160\u001b[0m\u001b[0;34m)\u001b[0m\u001b[0;34m\u001b[0m\u001b[0;34m\u001b[0m\u001b[0m\n\u001b[0;32m---> 20\u001b[0;31m \u001b[0mprint\u001b[0m\u001b[0;34m(\u001b[0m\u001b[0mheroe\u001b[0m\u001b[0;34m.\u001b[0m\u001b[0m__vida\u001b[0m\u001b[0;34m)\u001b[0m \u001b[0;31m# 160\u001b[0m\u001b[0;34m\u001b[0m\u001b[0;34m\u001b[0m\u001b[0m\n\u001b[0m\u001b[1;32m     21\u001b[0m \u001b[0mprint\u001b[0m\u001b[0;34m(\u001b[0m\u001b[0mheroe\u001b[0m\u001b[0;34m.\u001b[0m\u001b[0mget_vida\u001b[0m\u001b[0;34m(\u001b[0m\u001b[0;34m)\u001b[0m\u001b[0;34m)\u001b[0m  \u001b[0;31m# 160\u001b[0m\u001b[0;34m\u001b[0m\u001b[0;34m\u001b[0m\u001b[0m\n\u001b[1;32m     22\u001b[0m \u001b[0mheroe\u001b[0m\u001b[0;34m.\u001b[0m\u001b[0mset_vida\u001b[0m\u001b[0;34m(\u001b[0m\u001b[0;36m300\u001b[0m\u001b[0;34m)\u001b[0m      \u001b[0;31m# ¡Vida no válida!\u001b[0m\u001b[0;34m\u001b[0m\u001b[0;34m\u001b[0m\u001b[0m\n",
            "\u001b[0;31mAttributeError\u001b[0m: 'Personaje' object has no attribute '__vida'"
          ]
        }
      ]
    },
    {
      "cell_type": "markdown",
      "source": [
        "#2. Herencia\n",
        "Concepto: Crear clases hijas que hereden atributos y métodos de una clase padre.\n",
        "\n",
        "Ejemplo:"
      ],
      "metadata": {
        "id": "UR3vihwke0oN"
      },
      "id": "UR3vihwke0oN"
    },
    {
      "cell_type": "code",
      "source": [
        "class Enemigo:  # Clase padre\n",
        "    def __init__(self, nombre):\n",
        "        self.nombre = nombre\n",
        "        self.vida = 50\n",
        "\n",
        "    def atacar(self):\n",
        "        print(f\"{self.nombre} ataca con 10 de daño!\")\n",
        "\n",
        "class JefeFinal(Enemigo):  # Clase hija\n",
        "    def __init__(self, nombre, poder):\n",
        "        super().__init__(nombre)  # Hereda __init__ del padre\n",
        "        self.poder = poder       # Atributo adicional\n",
        "\n",
        "    # Sobrescritura de método (override)\n",
        "    def atacar(self):\n",
        "        print(f\"{self.nombre} ataca con {self.poder} de daño!\")\n",
        "\n",
        "# Uso\n",
        "enemigo_comun = Enemigo(\"Orco\")\n",
        "enemigo_comun.atacar()  # \"Orco ataca con 10 de daño!\"\n",
        "\n",
        "jefe = JefeFinal(\"Dragón\", 50)\n",
        "jefe.atacar()  # \"Dragón ataca con 50 de daño!\""
      ],
      "metadata": {
        "colab": {
          "base_uri": "https://localhost:8080/"
        },
        "id": "5QwBgyE1e4Uq",
        "outputId": "31d4a7c1-f4d8-43b0-b48c-322f473f6e1a"
      },
      "id": "5QwBgyE1e4Uq",
      "execution_count": 1,
      "outputs": [
        {
          "output_type": "stream",
          "name": "stdout",
          "text": [
            "Orco ataca con 10 de daño!\n",
            "Dragón ataca con 50 de daño!\n"
          ]
        }
      ]
    },
    {
      "cell_type": "markdown",
      "source": [
        "#3. Polimorfismo\n",
        "Concepto: Objetos de diferentes clases pueden usar métodos con el mismo nombre pero comportamientos distintos.\n",
        "\n",
        "Ejemplo:"
      ],
      "metadata": {
        "id": "8PIL2ZvefL9B"
      },
      "id": "8PIL2ZvefL9B"
    },
    {
      "cell_type": "code",
      "source": [
        "class NPC:\n",
        "    def interactuar(self):\n",
        "        print(\"El NPC dice: 'Hola aventurero!'\")\n",
        "\n",
        "class Vendedor(NPC):\n",
        "    def interactuar(self):\n",
        "        print(\"El vendedor dice: '¿Qué necesitas comprar?'\")\n",
        "\n",
        "class Misionero(NPC):\n",
        "    def interactuar(self):\n",
        "        print(\"El misionero dice: '¡Ayúdame a encontrar mi tesoro!'\")\n",
        "\n",
        "# Función polimórfica\n",
        "def hablar_con_npc(npc):\n",
        "    npc.interactuar()\n",
        "\n",
        "# Uso\n",
        "npcs = [NPC(), Vendedor(), Misionero()]\n",
        "for npc in npcs:\n",
        "    hablar_con_npc(npc)"
      ],
      "metadata": {
        "colab": {
          "base_uri": "https://localhost:8080/"
        },
        "id": "FMJIOyVofOb0",
        "outputId": "dc29f1fd-4def-45f5-8306-a016166437a9"
      },
      "id": "FMJIOyVofOb0",
      "execution_count": 23,
      "outputs": [
        {
          "output_type": "stream",
          "name": "stdout",
          "text": [
            "El NPC dice: 'Hola aventurero!'\n",
            "El vendedor dice: '¿Qué necesitas comprar?'\n",
            "El misionero dice: '¡Ayúdame a encontrar mi tesoro!'\n"
          ]
        }
      ]
    },
    {
      "cell_type": "markdown",
      "source": [
        "# Bonus: Integración en un Videojuego"
      ],
      "metadata": {
        "id": "KET3T_WGfZLj"
      },
      "id": "KET3T_WGfZLj"
    },
    {
      "cell_type": "code",
      "source": [
        "# Polimorfismo + Herencia\n",
        "personajes = [Personaje(\"Héroe\"), JefeFinal(\"Dragón\", 50)]\n",
        "\n",
        "for personaje in personajes:\n",
        "    personaje.atacar()  # Cada uno ejecuta su versión de atacar()"
      ],
      "metadata": {
        "colab": {
          "base_uri": "https://localhost:8080/",
          "height": 211
        },
        "id": "fzSqcBqifeJO",
        "outputId": "583b8d7b-65cc-4f28-8706-89b8234f29c6"
      },
      "id": "fzSqcBqifeJO",
      "execution_count": 2,
      "outputs": [
        {
          "output_type": "error",
          "ename": "NameError",
          "evalue": "name 'Personaje' is not defined",
          "traceback": [
            "\u001b[0;31m---------------------------------------------------------------------------\u001b[0m",
            "\u001b[0;31mNameError\u001b[0m                                 Traceback (most recent call last)",
            "\u001b[0;32m<ipython-input-2-f3c2eb8947ae>\u001b[0m in \u001b[0;36m<cell line: 0>\u001b[0;34m()\u001b[0m\n\u001b[1;32m      1\u001b[0m \u001b[0;31m# Polimorfismo + Herencia\u001b[0m\u001b[0;34m\u001b[0m\u001b[0;34m\u001b[0m\u001b[0m\n\u001b[0;32m----> 2\u001b[0;31m \u001b[0mpersonajes\u001b[0m \u001b[0;34m=\u001b[0m \u001b[0;34m[\u001b[0m\u001b[0mPersonaje\u001b[0m\u001b[0;34m(\u001b[0m\u001b[0;34m\"Héroe\"\u001b[0m\u001b[0;34m)\u001b[0m\u001b[0;34m,\u001b[0m \u001b[0mJefeFinal\u001b[0m\u001b[0;34m(\u001b[0m\u001b[0;34m\"Dragón\"\u001b[0m\u001b[0;34m,\u001b[0m \u001b[0;36m50\u001b[0m\u001b[0;34m)\u001b[0m\u001b[0;34m]\u001b[0m\u001b[0;34m\u001b[0m\u001b[0;34m\u001b[0m\u001b[0m\n\u001b[0m\u001b[1;32m      3\u001b[0m \u001b[0;34m\u001b[0m\u001b[0m\n\u001b[1;32m      4\u001b[0m \u001b[0;32mfor\u001b[0m \u001b[0mpersonaje\u001b[0m \u001b[0;32min\u001b[0m \u001b[0mpersonajes\u001b[0m\u001b[0;34m:\u001b[0m\u001b[0;34m\u001b[0m\u001b[0;34m\u001b[0m\u001b[0m\n\u001b[1;32m      5\u001b[0m     \u001b[0mpersonaje\u001b[0m\u001b[0;34m.\u001b[0m\u001b[0matacar\u001b[0m\u001b[0;34m(\u001b[0m\u001b[0;34m)\u001b[0m  \u001b[0;31m# Cada uno ejecuta su versión de atacar()\u001b[0m\u001b[0;34m\u001b[0m\u001b[0;34m\u001b[0m\u001b[0m\n",
            "\u001b[0;31mNameError\u001b[0m: name 'Personaje' is not defined"
          ]
        }
      ]
    },
    {
      "cell_type": "markdown",
      "id": "db40a53a",
      "metadata": {
        "id": "db40a53a"
      },
      "source": [
        "### ¿Qué es un módulo y un paquete en Python?\n",
        "Un **módulo** es un archivo `.py` que contiene código. Un **paquete** es una carpeta con un archivo especial `__init__.py` que agrupa varios módulos."
      ]
    },
    {
      "cell_type": "code",
      "execution_count": null,
      "id": "4074b592",
      "metadata": {
        "id": "4074b592"
      },
      "outputs": [],
      "source": [
        "# juego/personaje.py\n",
        "class Personaje:\n",
        "    pass\n",
        "\n",
        "# juego/enemigo.py\n",
        "from juego.personaje import Personaje\n",
        "\n",
        "class Enemigo(Personaje):\n",
        "    pass"
      ]
    },
    {
      "cell_type": "markdown",
      "id": "feca3fbb",
      "metadata": {
        "id": "feca3fbb"
      },
      "source": [
        "### ¿Qué es la recursividad?\n",
        "La **recursividad** es una técnica en la que una función se llama a sí misma para resolver un problema en partes más pequeñas."
      ]
    },
    {
      "cell_type": "code",
      "execution_count": 3,
      "id": "28f067f8",
      "metadata": {
        "id": "28f067f8"
      },
      "outputs": [],
      "source": [
        "def factorial(n):\n",
        "    if n == 0:\n",
        "        return 1\n",
        "    else:\n",
        "        print(f\"valor {n}\")\n",
        "        return n * factorial(n - 1)"
      ]
    },
    {
      "cell_type": "code",
      "source": [
        "factorial(5)"
      ],
      "metadata": {
        "colab": {
          "base_uri": "https://localhost:8080/"
        },
        "id": "7bBia9UAS-HF",
        "outputId": "bf4517a1-eec9-4c30-8570-8726dbc11266"
      },
      "id": "7bBia9UAS-HF",
      "execution_count": 4,
      "outputs": [
        {
          "output_type": "stream",
          "name": "stdout",
          "text": [
            "valor 5\n",
            "valor 4\n",
            "valor 3\n",
            "valor 2\n",
            "valor 1\n"
          ]
        },
        {
          "output_type": "execute_result",
          "data": {
            "text/plain": [
              "120"
            ]
          },
          "metadata": {},
          "execution_count": 4
        }
      ]
    },
    {
      "cell_type": "markdown",
      "id": "af0981e1",
      "metadata": {
        "id": "af0981e1"
      },
      "source": [
        "**Ejercicio:** Calcula el factorial de 5."
      ]
    },
    {
      "cell_type": "markdown",
      "id": "a7d4c6ad",
      "metadata": {
        "id": "a7d4c6ad"
      },
      "source": [
        "### Recursividad en videojuegos\n",
        "Podemos usar la recursividad para representar decisiones encadenadas o niveles de profundidad, como IA de enemigos."
      ]
    },
    {
      "cell_type": "code",
      "execution_count": 11,
      "id": "0534fd5d",
      "metadata": {
        "id": "0534fd5d"
      },
      "outputs": [],
      "source": [
        "def contar_niveles(decisiones):\n",
        "    if decisiones != 0:\n",
        "        print(f\"1) valor - {decisiones}\")\n",
        "        return 1 + contar_niveles(decisiones - 1)\n",
        "    else:\n",
        "        print(f\"2) valor - {decisiones}\")\n",
        "        return 0\n",
        ""
      ]
    },
    {
      "cell_type": "code",
      "source": [
        "contar_niveles(5)"
      ],
      "metadata": {
        "colab": {
          "base_uri": "https://localhost:8080/"
        },
        "id": "l2Dr1dn-Tooh",
        "outputId": "1b2651be-50b4-4ec2-d976-e82e767fa998"
      },
      "id": "l2Dr1dn-Tooh",
      "execution_count": 12,
      "outputs": [
        {
          "output_type": "stream",
          "name": "stdout",
          "text": [
            "1) valor - 5\n",
            "1) valor - 4\n",
            "1) valor - 3\n",
            "1) valor - 2\n",
            "1) valor - 1\n",
            "2) valor - 0\n"
          ]
        },
        {
          "output_type": "execute_result",
          "data": {
            "text/plain": [
              "5"
            ]
          },
          "metadata": {},
          "execution_count": 12
        }
      ]
    },
    {
      "cell_type": "markdown",
      "id": "ba94d2fe",
      "metadata": {
        "id": "ba94d2fe"
      },
      "source": [
        "**Ejercicio:** Cuenta los niveles de una IA con 3 decisiones anidadas."
      ]
    },
    {
      "cell_type": "markdown",
      "id": "7b37bf3b",
      "metadata": {
        "id": "7b37bf3b"
      },
      "source": [
        "### Práctica Final\n",
        "**Desafío:**\n",
        "Crea un paquete `aventura` con las siguientes clases:\n",
        "- `Heroe` que hereda de `Personaje`\n",
        "- `JefeFinal` que hereda de `Enemigo` y sobreescribe el método `atacar()`\n",
        "\n",
        "Implementa también una función recursiva que cuente los turnos de ataque hasta que la salud llegue a 0."
      ]
    }
  ],
  "metadata": {
    "colab": {
      "provenance": [],
      "include_colab_link": true
    },
    "language_info": {
      "name": "python"
    },
    "kernelspec": {
      "name": "python3",
      "display_name": "Python 3"
    }
  },
  "nbformat": 4,
  "nbformat_minor": 5
}